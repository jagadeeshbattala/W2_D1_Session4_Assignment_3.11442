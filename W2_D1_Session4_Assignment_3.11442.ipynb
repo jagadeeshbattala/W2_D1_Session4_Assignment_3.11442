{
 "cells": [
  {
   "cell_type": "markdown",
   "metadata": {},
   "source": [
    "# W2_D1_Session4_Assignment_3.11442"
   ]
  },
  {
   "cell_type": "markdown",
   "metadata": {},
   "source": [
    "### Problem 1.1"
   ]
  },
  {
   "cell_type": "code",
   "execution_count": 3,
   "metadata": {},
   "outputs": [
    {
     "data": {
      "text/plain": [
       "6.0"
      ]
     },
     "execution_count": 3,
     "metadata": {},
     "output_type": "execute_result"
    }
   ],
   "source": [
    "#Program to find the area of the trinagle when lenghts of sides are given.\n",
    "class Polygon:\n",
    "    def __init__(self, no_of_sides, lengths_of_sides):\n",
    "        self.lengths_of_sides = lengths_of_sides\n",
    "\n",
    "class Triangle:\n",
    "    def __init__(self, lengths_of_sides):\n",
    "        Polygon.__init__(self, 3, lengths_of_sides)\n",
    "    \n",
    "    def getArea(self):\n",
    "        a, b, c = self.lengths_of_sides\n",
    "        s = (a + b + c) / 2\n",
    "        return (s * (s - a) * (s - b) * (s - c)) ** 0.5\n",
    "\n",
    "triangle = Triangle([3, 4, 5])\n",
    "triangle.getArea()"
   ]
  },
  {
   "cell_type": "markdown",
   "metadata": {},
   "source": [
    "### Problem 1.2"
   ]
  },
  {
   "cell_type": "code",
   "execution_count": 10,
   "metadata": {},
   "outputs": [
    {
     "data": {
      "text/plain": [
       "['January', 'February']"
      ]
     },
     "execution_count": 10,
     "metadata": {},
     "output_type": "execute_result"
    }
   ],
   "source": [
    "#Method to filter all words from words that has length > n\n",
    "def filter_long_words(words, n):\n",
    "    res_list = []\n",
    "    for word in words:\n",
    "        if(len(word) > n):\n",
    "            res_list.append(word)\n",
    "    return res_list\n",
    "\n",
    "filter_long_words(['January', 'February', 'March', 'April', 'may'], 5)"
   ]
  },
  {
   "cell_type": "markdown",
   "metadata": {},
   "source": [
    "### Problem 2.1"
   ]
  },
  {
   "cell_type": "code",
   "execution_count": 11,
   "metadata": {},
   "outputs": [
    {
     "data": {
      "text/plain": [
       "[2, 3, 4]"
      ]
     },
     "execution_count": 11,
     "metadata": {},
     "output_type": "execute_result"
    }
   ],
   "source": [
    "#Method that returns the list of lengths of the list words given.\n",
    "def lengths_of_words(words):\n",
    "    return list(map(len, words))\n",
    "\n",
    "lengths_of_words(['ab','cde','fghi'])"
   ]
  },
  {
   "cell_type": "markdown",
   "metadata": {},
   "source": [
    "### Problem 2.2"
   ]
  },
  {
   "cell_type": "code",
   "execution_count": 15,
   "metadata": {},
   "outputs": [
    {
     "name": "stdout",
     "output_type": "stream",
     "text": [
      "True\n",
      "False\n",
      "True\n"
     ]
    }
   ],
   "source": [
    "def isVowel(char):\n",
    "    vowels = ['a', 'e', 'i', 'o', 'u', 'A', 'E', 'I', 'O', 'U']\n",
    "    return char in vowels\n",
    "\n",
    "print(isVowel('A'))\n",
    "print(isVowel('b'))\n",
    "print(isVowel('i'))"
   ]
  },
  {
   "cell_type": "code",
   "execution_count": null,
   "metadata": {},
   "outputs": [],
   "source": []
  }
 ],
 "metadata": {
  "kernelspec": {
   "display_name": "Python 3",
   "language": "python",
   "name": "python3"
  },
  "language_info": {
   "codemirror_mode": {
    "name": "ipython",
    "version": 3
   },
   "file_extension": ".py",
   "mimetype": "text/x-python",
   "name": "python",
   "nbconvert_exporter": "python",
   "pygments_lexer": "ipython3",
   "version": "3.7.0"
  }
 },
 "nbformat": 4,
 "nbformat_minor": 2
}
